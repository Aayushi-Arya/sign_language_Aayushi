{
 "cells": [
  {
   "cell_type": "code",
   "execution_count": 2,
   "id": "69b0454d-a57d-4b5b-8789-bf808266962e",
   "metadata": {},
   "outputs": [
    {
     "name": "stdout",
     "output_type": "stream",
     "text": [
      "Collecting images for A\n",
      "Collecting images for B\n",
      "Collecting images for C\n",
      "Collecting images for D\n",
      "Collecting images for E\n",
      "Collecting images for F\n",
      "Collecting images for G\n",
      "Collecting images for H\n",
      "Collecting images for I\n",
      "Collecting images for J\n",
      "Collecting images for K\n",
      "Collecting images for L\n",
      "Collecting images for M\n",
      "Collecting images for N\n",
      "Collecting images for O\n",
      "Collecting images for P\n",
      "Collecting images for Q\n",
      "Collecting images for R\n",
      "Collecting images for S\n",
      "Collecting images for T\n",
      "Collecting images for U\n",
      "Collecting images for V\n",
      "Collecting images for W\n",
      "Collecting images for X\n",
      "Collecting images for Y\n",
      "Collecting images for Z\n"
     ]
    }
   ],
   "source": [
    "import os\n",
    "import cv2\n",
    "import time\n",
    "import uuid\n",
    "\n",
    "image_path = \"Sign_data\"\n",
    "\n",
    "labels = [\"A\", \"B\", \"C\", \"D\", \"E\", \"F\",\"G\", \"H\", \"I\", \"J\", \"K\",\"L\", \"M\", \"N\", \"O\", \"P\",\"Q\", \"R\", \"S\", \"T\", \"U\",\"V\", \"W\", \"X\", \"Y\", \"Z\"]\n",
    "\n",
    "number_of_images = 5\n",
    "\n",
    "\n",
    "for label in labels:\n",
    "    image_dir = os.path.join(image_path, label)\n",
    "    os.makedirs(image_dir)\n",
    "\n",
    "    cap = cv2.VideoCapture(0)\n",
    "\n",
    "    print(f\"Collecting images for {label}\")\n",
    "    time.sleep(5)\n",
    "\n",
    "    for imgnum in range(number_of_images):\n",
    "        ret, frame = cap.read()\n",
    "        imagename=os.path.join(image_path,label,label+'.'+'{}.jpg'.format(str(uuid.uuid1())))\n",
    "        cv2.imwrite(imagename,frame)\n",
    "        cv2.imshow('frame',frame)\n",
    "        time.sleep(2)\n",
    "        \n",
    "        if cv2.waitKey(1) & 0xFF==ord('q'):\n",
    "            break\n",
    "    cap.release() "
   ]
  },
  {
   "cell_type": "code",
   "execution_count": null,
   "id": "26e5a70e-574c-4e20-b16c-35e4ff89fec8",
   "metadata": {},
   "outputs": [],
   "source": []
  }
 ],
 "metadata": {
  "kernelspec": {
   "display_name": "Python 3 (ipykernel)",
   "language": "python",
   "name": "python3"
  },
  "language_info": {
   "codemirror_mode": {
    "name": "ipython",
    "version": 3
   },
   "file_extension": ".py",
   "mimetype": "text/x-python",
   "name": "python",
   "nbconvert_exporter": "python",
   "pygments_lexer": "ipython3",
   "version": "3.12.4"
  }
 },
 "nbformat": 4,
 "nbformat_minor": 5
}
